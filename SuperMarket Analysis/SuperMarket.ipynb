{
 "cells": [
  {
   "cell_type": "code",
   "execution_count": 2,
   "metadata": {},
   "outputs": [],
   "source": [
    "import pandas as pd\n",
    "# read the sales data\n",
    "\n",
    "sales = pd.read_csv('sales.csv')\n"
   ]
  },
  {
   "cell_type": "code",
   "execution_count": 3,
   "metadata": {},
   "outputs": [
    {
     "data": {
      "text/html": [
       "<div>\n",
       "<style scoped>\n",
       "    .dataframe tbody tr th:only-of-type {\n",
       "        vertical-align: middle;\n",
       "    }\n",
       "\n",
       "    .dataframe tbody tr th {\n",
       "        vertical-align: top;\n",
       "    }\n",
       "\n",
       "    .dataframe thead th {\n",
       "        text-align: right;\n",
       "    }\n",
       "</style>\n",
       "<table border=\"1\" class=\"dataframe\">\n",
       "  <thead>\n",
       "    <tr style=\"text-align: right;\">\n",
       "      <th></th>\n",
       "      <th>Invoice ID</th>\n",
       "      <th>Date</th>\n",
       "      <th>Time</th>\n",
       "      <th>Gender</th>\n",
       "      <th>Location</th>\n",
       "      <th>City</th>\n",
       "      <th>Member</th>\n",
       "      <th>Category</th>\n",
       "      <th>Price</th>\n",
       "      <th>Quantity</th>\n",
       "      <th>Total</th>\n",
       "      <th>Payment</th>\n",
       "      <th>Rating</th>\n",
       "    </tr>\n",
       "  </thead>\n",
       "  <tbody>\n",
       "    <tr>\n",
       "      <th>0</th>\n",
       "      <td>460489604</td>\n",
       "      <td>1/25/2018</td>\n",
       "      <td>16:46</td>\n",
       "      <td>Male</td>\n",
       "      <td>Brookfield</td>\n",
       "      <td>NewYork</td>\n",
       "      <td>Yes</td>\n",
       "      <td>Groceries</td>\n",
       "      <td>30</td>\n",
       "      <td>1</td>\n",
       "      <td>30</td>\n",
       "      <td>Cash</td>\n",
       "      <td>2</td>\n",
       "    </tr>\n",
       "    <tr>\n",
       "      <th>1</th>\n",
       "      <td>471006167</td>\n",
       "      <td>3/19/2018</td>\n",
       "      <td>16:48</td>\n",
       "      <td>Female</td>\n",
       "      <td>Water tower</td>\n",
       "      <td>Chicago</td>\n",
       "      <td>Yes</td>\n",
       "      <td>Fashion</td>\n",
       "      <td>35</td>\n",
       "      <td>5</td>\n",
       "      <td>175</td>\n",
       "      <td>Card</td>\n",
       "      <td>3</td>\n",
       "    </tr>\n",
       "    <tr>\n",
       "      <th>2</th>\n",
       "      <td>411909258</td>\n",
       "      <td>2/25/2018</td>\n",
       "      <td>13:33</td>\n",
       "      <td>Male</td>\n",
       "      <td>Water tower</td>\n",
       "      <td>Chicago</td>\n",
       "      <td>No</td>\n",
       "      <td>Clothing</td>\n",
       "      <td>57</td>\n",
       "      <td>2</td>\n",
       "      <td>114</td>\n",
       "      <td>Cash</td>\n",
       "      <td>5</td>\n",
       "    </tr>\n",
       "    <tr>\n",
       "      <th>3</th>\n",
       "      <td>487313402</td>\n",
       "      <td>1/22/2018</td>\n",
       "      <td>13:38</td>\n",
       "      <td>Female</td>\n",
       "      <td>Park lane</td>\n",
       "      <td>Dallas</td>\n",
       "      <td>Yes</td>\n",
       "      <td>Sporting</td>\n",
       "      <td>89</td>\n",
       "      <td>4</td>\n",
       "      <td>356</td>\n",
       "      <td>Gpay</td>\n",
       "      <td>1</td>\n",
       "    </tr>\n",
       "    <tr>\n",
       "      <th>4</th>\n",
       "      <td>197763430</td>\n",
       "      <td>2/18/2018</td>\n",
       "      <td>15:31</td>\n",
       "      <td>Female</td>\n",
       "      <td>Park lane</td>\n",
       "      <td>Dallas</td>\n",
       "      <td>No</td>\n",
       "      <td>Books</td>\n",
       "      <td>82</td>\n",
       "      <td>5</td>\n",
       "      <td>410</td>\n",
       "      <td>Cash</td>\n",
       "      <td>4</td>\n",
       "    </tr>\n",
       "    <tr>\n",
       "      <th>5</th>\n",
       "      <td>263634050</td>\n",
       "      <td>3/9/2018</td>\n",
       "      <td>17:55</td>\n",
       "      <td>Male</td>\n",
       "      <td>Brookfield</td>\n",
       "      <td>NewYork</td>\n",
       "      <td>Yes</td>\n",
       "      <td>Clothing</td>\n",
       "      <td>52</td>\n",
       "      <td>4</td>\n",
       "      <td>208</td>\n",
       "      <td>Gpay</td>\n",
       "      <td>3</td>\n",
       "    </tr>\n",
       "    <tr>\n",
       "      <th>6</th>\n",
       "      <td>99646662</td>\n",
       "      <td>3/4/2018</td>\n",
       "      <td>13:21</td>\n",
       "      <td>Male</td>\n",
       "      <td>Water tower</td>\n",
       "      <td>Chicago</td>\n",
       "      <td>No</td>\n",
       "      <td>Clothing</td>\n",
       "      <td>81</td>\n",
       "      <td>3</td>\n",
       "      <td>243</td>\n",
       "      <td>Cash</td>\n",
       "      <td>4</td>\n",
       "    </tr>\n",
       "    <tr>\n",
       "      <th>7</th>\n",
       "      <td>188869875</td>\n",
       "      <td>3/8/2018</td>\n",
       "      <td>13:24</td>\n",
       "      <td>Male</td>\n",
       "      <td>Park lane</td>\n",
       "      <td>Dallas</td>\n",
       "      <td>No</td>\n",
       "      <td>Books</td>\n",
       "      <td>80</td>\n",
       "      <td>2</td>\n",
       "      <td>160</td>\n",
       "      <td>Cash</td>\n",
       "      <td>3</td>\n",
       "    </tr>\n",
       "    <tr>\n",
       "      <th>8</th>\n",
       "      <td>325637547</td>\n",
       "      <td>1/18/2018</td>\n",
       "      <td>15:33</td>\n",
       "      <td>Male</td>\n",
       "      <td>Park lane</td>\n",
       "      <td>Dallas</td>\n",
       "      <td>Yes</td>\n",
       "      <td>Clothing</td>\n",
       "      <td>91</td>\n",
       "      <td>3</td>\n",
       "      <td>273</td>\n",
       "      <td>Card</td>\n",
       "      <td>3</td>\n",
       "    </tr>\n",
       "    <tr>\n",
       "      <th>9</th>\n",
       "      <td>562942936</td>\n",
       "      <td>2/24/2018</td>\n",
       "      <td>16:05</td>\n",
       "      <td>Female</td>\n",
       "      <td>Park lane</td>\n",
       "      <td>Dallas</td>\n",
       "      <td>No</td>\n",
       "      <td>Books</td>\n",
       "      <td>80</td>\n",
       "      <td>2</td>\n",
       "      <td>160</td>\n",
       "      <td>Cash</td>\n",
       "      <td>4</td>\n",
       "    </tr>\n",
       "  </tbody>\n",
       "</table>\n",
       "</div>"
      ],
      "text/plain": [
       "   Invoice ID       Date   Time  Gender     Location     City Member  \\\n",
       "0   460489604  1/25/2018  16:46    Male   Brookfield  NewYork    Yes   \n",
       "1   471006167  3/19/2018  16:48  Female  Water tower  Chicago    Yes   \n",
       "2   411909258  2/25/2018  13:33    Male  Water tower  Chicago     No   \n",
       "3   487313402  1/22/2018  13:38  Female    Park lane   Dallas    Yes   \n",
       "4   197763430  2/18/2018  15:31  Female    Park lane   Dallas     No   \n",
       "5   263634050   3/9/2018  17:55    Male   Brookfield  NewYork    Yes   \n",
       "6    99646662   3/4/2018  13:21    Male  Water tower  Chicago     No   \n",
       "7   188869875   3/8/2018  13:24    Male    Park lane   Dallas     No   \n",
       "8   325637547  1/18/2018  15:33    Male    Park lane   Dallas    Yes   \n",
       "9   562942936  2/24/2018  16:05  Female    Park lane   Dallas     No   \n",
       "\n",
       "    Category  Price  Quantity  Total Payment  Rating  \n",
       "0  Groceries     30         1     30    Cash       2  \n",
       "1    Fashion     35         5    175    Card       3  \n",
       "2   Clothing     57         2    114    Cash       5  \n",
       "3   Sporting     89         4    356    Gpay       1  \n",
       "4      Books     82         5    410    Cash       4  \n",
       "5   Clothing     52         4    208    Gpay       3  \n",
       "6   Clothing     81         3    243    Cash       4  \n",
       "7      Books     80         2    160    Cash       3  \n",
       "8   Clothing     91         3    273    Card       3  \n",
       "9      Books     80         2    160    Cash       4  "
      ]
     },
     "execution_count": 3,
     "metadata": {},
     "output_type": "execute_result"
    }
   ],
   "source": [
    "# we are just looking at first 10 entries\n",
    "sales.head(10)"
   ]
  },
  {
   "cell_type": "markdown",
   "metadata": {},
   "source": [
    "    EXPLORING THE DATA"
   ]
  },
  {
   "cell_type": "code",
   "execution_count": 4,
   "metadata": {},
   "outputs": [
    {
     "data": {
      "text/plain": [
       "0      460489604\n",
       "1      471006167\n",
       "2      411909258\n",
       "3      487313402\n",
       "4      197763430\n",
       "         ...    \n",
       "995    818829599\n",
       "996    556589713\n",
       "997     82324424\n",
       "998    783661702\n",
       "999    759171975\n",
       "Name: Invoice ID, Length: 1000, dtype: int64"
      ]
     },
     "execution_count": 4,
     "metadata": {},
     "output_type": "execute_result"
    }
   ],
   "source": [
    "# indexing and slicing\n",
    "# we want only invoice id\n",
    "sales['Invoice ID']"
   ]
  },
  {
   "cell_type": "code",
   "execution_count": 5,
   "metadata": {},
   "outputs": [
    {
     "data": {
      "text/plain": [
       "array(['Groceries', 'Fashion', 'Clothing', 'Sporting', 'Books',\n",
       "       'Furniture'], dtype=object)"
      ]
     },
     "execution_count": 5,
     "metadata": {},
     "output_type": "execute_result"
    }
   ],
   "source": [
    "# To find the unique categories\n",
    "sales['Category'].unique()"
   ]
  },
  {
   "cell_type": "code",
   "execution_count": 6,
   "metadata": {},
   "outputs": [
    {
     "data": {
      "text/html": [
       "<div>\n",
       "<style scoped>\n",
       "    .dataframe tbody tr th:only-of-type {\n",
       "        vertical-align: middle;\n",
       "    }\n",
       "\n",
       "    .dataframe tbody tr th {\n",
       "        vertical-align: top;\n",
       "    }\n",
       "\n",
       "    .dataframe thead th {\n",
       "        text-align: right;\n",
       "    }\n",
       "</style>\n",
       "<table border=\"1\" class=\"dataframe\">\n",
       "  <thead>\n",
       "    <tr style=\"text-align: right;\">\n",
       "      <th></th>\n",
       "      <th>Invoice ID</th>\n",
       "      <th>Date</th>\n",
       "      <th>Time</th>\n",
       "      <th>Gender</th>\n",
       "      <th>Location</th>\n",
       "      <th>City</th>\n",
       "      <th>Member</th>\n",
       "      <th>Category</th>\n",
       "      <th>Price</th>\n",
       "      <th>Quantity</th>\n",
       "      <th>Total</th>\n",
       "      <th>Payment</th>\n",
       "      <th>Rating</th>\n",
       "    </tr>\n",
       "  </thead>\n",
       "  <tbody>\n",
       "    <tr>\n",
       "      <th>200</th>\n",
       "      <td>576523018</td>\n",
       "      <td>2/15/2018</td>\n",
       "      <td>12:35</td>\n",
       "      <td>Male</td>\n",
       "      <td>Water tower</td>\n",
       "      <td>Chicago</td>\n",
       "      <td>No</td>\n",
       "      <td>Groceries</td>\n",
       "      <td>82</td>\n",
       "      <td>1</td>\n",
       "      <td>82</td>\n",
       "      <td>Card</td>\n",
       "      <td>4</td>\n",
       "    </tr>\n",
       "    <tr>\n",
       "      <th>201</th>\n",
       "      <td>414119922</td>\n",
       "      <td>1/30/2018</td>\n",
       "      <td>11:07</td>\n",
       "      <td>Male</td>\n",
       "      <td>Water tower</td>\n",
       "      <td>Chicago</td>\n",
       "      <td>No</td>\n",
       "      <td>Sporting</td>\n",
       "      <td>44</td>\n",
       "      <td>7</td>\n",
       "      <td>308</td>\n",
       "      <td>Card</td>\n",
       "      <td>3</td>\n",
       "    </tr>\n",
       "    <tr>\n",
       "      <th>202</th>\n",
       "      <td>123247697</td>\n",
       "      <td>2/8/2018</td>\n",
       "      <td>20:03</td>\n",
       "      <td>Male</td>\n",
       "      <td>Brookfield</td>\n",
       "      <td>NewYork</td>\n",
       "      <td>No</td>\n",
       "      <td>Groceries</td>\n",
       "      <td>22</td>\n",
       "      <td>7</td>\n",
       "      <td>154</td>\n",
       "      <td>Card</td>\n",
       "      <td>5</td>\n",
       "    </tr>\n",
       "    <tr>\n",
       "      <th>203</th>\n",
       "      <td>40419058</td>\n",
       "      <td>1/26/2018</td>\n",
       "      <td>14:53</td>\n",
       "      <td>Male</td>\n",
       "      <td>Water tower</td>\n",
       "      <td>Chicago</td>\n",
       "      <td>Yes</td>\n",
       "      <td>Books</td>\n",
       "      <td>95</td>\n",
       "      <td>6</td>\n",
       "      <td>570</td>\n",
       "      <td>Card</td>\n",
       "      <td>1</td>\n",
       "    </tr>\n",
       "    <tr>\n",
       "      <th>204</th>\n",
       "      <td>890497298</td>\n",
       "      <td>2/25/2018</td>\n",
       "      <td>18:06</td>\n",
       "      <td>Female</td>\n",
       "      <td>Water tower</td>\n",
       "      <td>Chicago</td>\n",
       "      <td>No</td>\n",
       "      <td>Clothing</td>\n",
       "      <td>69</td>\n",
       "      <td>2</td>\n",
       "      <td>138</td>\n",
       "      <td>Cash</td>\n",
       "      <td>2</td>\n",
       "    </tr>\n",
       "    <tr>\n",
       "      <th>205</th>\n",
       "      <td>885702268</td>\n",
       "      <td>1/28/2018</td>\n",
       "      <td>12:45</td>\n",
       "      <td>Male</td>\n",
       "      <td>Brookfield</td>\n",
       "      <td>NewYork</td>\n",
       "      <td>No</td>\n",
       "      <td>Groceries</td>\n",
       "      <td>89</td>\n",
       "      <td>6</td>\n",
       "      <td>534</td>\n",
       "      <td>Card</td>\n",
       "      <td>1</td>\n",
       "    </tr>\n",
       "    <tr>\n",
       "      <th>206</th>\n",
       "      <td>172252194</td>\n",
       "      <td>3/22/2018</td>\n",
       "      <td>20:10</td>\n",
       "      <td>Female</td>\n",
       "      <td>Park lane</td>\n",
       "      <td>Dallas</td>\n",
       "      <td>No</td>\n",
       "      <td>Books</td>\n",
       "      <td>41</td>\n",
       "      <td>6</td>\n",
       "      <td>246</td>\n",
       "      <td>Card</td>\n",
       "      <td>4</td>\n",
       "    </tr>\n",
       "    <tr>\n",
       "      <th>207</th>\n",
       "      <td>866140211</td>\n",
       "      <td>2/25/2018</td>\n",
       "      <td>13:34</td>\n",
       "      <td>Female</td>\n",
       "      <td>Park lane</td>\n",
       "      <td>Dallas</td>\n",
       "      <td>No</td>\n",
       "      <td>Clothing</td>\n",
       "      <td>54</td>\n",
       "      <td>6</td>\n",
       "      <td>324</td>\n",
       "      <td>Gpay</td>\n",
       "      <td>4</td>\n",
       "    </tr>\n",
       "    <tr>\n",
       "      <th>208</th>\n",
       "      <td>597678548</td>\n",
       "      <td>3/15/2018</td>\n",
       "      <td>17:35</td>\n",
       "      <td>Male</td>\n",
       "      <td>Water tower</td>\n",
       "      <td>Chicago</td>\n",
       "      <td>Yes</td>\n",
       "      <td>Sporting</td>\n",
       "      <td>34</td>\n",
       "      <td>3</td>\n",
       "      <td>102</td>\n",
       "      <td>Cash</td>\n",
       "      <td>1</td>\n",
       "    </tr>\n",
       "    <tr>\n",
       "      <th>209</th>\n",
       "      <td>428818456</td>\n",
       "      <td>2/25/2018</td>\n",
       "      <td>18:50</td>\n",
       "      <td>Male</td>\n",
       "      <td>Park lane</td>\n",
       "      <td>Dallas</td>\n",
       "      <td>Yes</td>\n",
       "      <td>Books</td>\n",
       "      <td>94</td>\n",
       "      <td>5</td>\n",
       "      <td>470</td>\n",
       "      <td>Cash</td>\n",
       "      <td>2</td>\n",
       "    </tr>\n",
       "  </tbody>\n",
       "</table>\n",
       "</div>"
      ],
      "text/plain": [
       "     Invoice ID       Date   Time  Gender     Location     City Member  \\\n",
       "200   576523018  2/15/2018  12:35    Male  Water tower  Chicago     No   \n",
       "201   414119922  1/30/2018  11:07    Male  Water tower  Chicago     No   \n",
       "202   123247697   2/8/2018  20:03    Male   Brookfield  NewYork     No   \n",
       "203    40419058  1/26/2018  14:53    Male  Water tower  Chicago    Yes   \n",
       "204   890497298  2/25/2018  18:06  Female  Water tower  Chicago     No   \n",
       "205   885702268  1/28/2018  12:45    Male   Brookfield  NewYork     No   \n",
       "206   172252194  3/22/2018  20:10  Female    Park lane   Dallas     No   \n",
       "207   866140211  2/25/2018  13:34  Female    Park lane   Dallas     No   \n",
       "208   597678548  3/15/2018  17:35    Male  Water tower  Chicago    Yes   \n",
       "209   428818456  2/25/2018  18:50    Male    Park lane   Dallas    Yes   \n",
       "\n",
       "      Category  Price  Quantity  Total Payment  Rating  \n",
       "200  Groceries     82         1     82    Card       4  \n",
       "201   Sporting     44         7    308    Card       3  \n",
       "202  Groceries     22         7    154    Card       5  \n",
       "203      Books     95         6    570    Card       1  \n",
       "204   Clothing     69         2    138    Cash       2  \n",
       "205  Groceries     89         6    534    Card       1  \n",
       "206      Books     41         6    246    Card       4  \n",
       "207   Clothing     54         6    324    Gpay       4  \n",
       "208   Sporting     34         3    102    Cash       1  \n",
       "209      Books     94         5    470    Cash       2  "
      ]
     },
     "execution_count": 6,
     "metadata": {},
     "output_type": "execute_result"
    }
   ],
   "source": [
    "# to find out customer of particular index\n",
    "sales.iloc[200:210]"
   ]
  },
  {
   "cell_type": "code",
   "execution_count": 7,
   "metadata": {},
   "outputs": [
    {
     "data": {
      "text/html": [
       "<div>\n",
       "<style scoped>\n",
       "    .dataframe tbody tr th:only-of-type {\n",
       "        vertical-align: middle;\n",
       "    }\n",
       "\n",
       "    .dataframe tbody tr th {\n",
       "        vertical-align: top;\n",
       "    }\n",
       "\n",
       "    .dataframe thead th {\n",
       "        text-align: right;\n",
       "    }\n",
       "</style>\n",
       "<table border=\"1\" class=\"dataframe\">\n",
       "  <thead>\n",
       "    <tr style=\"text-align: right;\">\n",
       "      <th></th>\n",
       "      <th>Invoice ID</th>\n",
       "      <th>Date</th>\n",
       "      <th>Time</th>\n",
       "      <th>Gender</th>\n",
       "      <th>Location</th>\n",
       "      <th>City</th>\n",
       "      <th>Member</th>\n",
       "      <th>Category</th>\n",
       "      <th>Price</th>\n",
       "      <th>Quantity</th>\n",
       "      <th>Total</th>\n",
       "      <th>Payment</th>\n",
       "      <th>Rating</th>\n",
       "    </tr>\n",
       "  </thead>\n",
       "  <tbody>\n",
       "    <tr>\n",
       "      <th>0</th>\n",
       "      <td>460489604</td>\n",
       "      <td>1/25/2018</td>\n",
       "      <td>16:46</td>\n",
       "      <td>Male</td>\n",
       "      <td>Brookfield</td>\n",
       "      <td>NewYork</td>\n",
       "      <td>Yes</td>\n",
       "      <td>Groceries</td>\n",
       "      <td>30</td>\n",
       "      <td>1</td>\n",
       "      <td>30</td>\n",
       "      <td>Cash</td>\n",
       "      <td>2</td>\n",
       "    </tr>\n",
       "    <tr>\n",
       "      <th>2</th>\n",
       "      <td>411909258</td>\n",
       "      <td>2/25/2018</td>\n",
       "      <td>13:33</td>\n",
       "      <td>Male</td>\n",
       "      <td>Water tower</td>\n",
       "      <td>Chicago</td>\n",
       "      <td>No</td>\n",
       "      <td>Clothing</td>\n",
       "      <td>57</td>\n",
       "      <td>2</td>\n",
       "      <td>114</td>\n",
       "      <td>Cash</td>\n",
       "      <td>5</td>\n",
       "    </tr>\n",
       "    <tr>\n",
       "      <th>5</th>\n",
       "      <td>263634050</td>\n",
       "      <td>3/9/2018</td>\n",
       "      <td>17:55</td>\n",
       "      <td>Male</td>\n",
       "      <td>Brookfield</td>\n",
       "      <td>NewYork</td>\n",
       "      <td>Yes</td>\n",
       "      <td>Clothing</td>\n",
       "      <td>52</td>\n",
       "      <td>4</td>\n",
       "      <td>208</td>\n",
       "      <td>Gpay</td>\n",
       "      <td>3</td>\n",
       "    </tr>\n",
       "    <tr>\n",
       "      <th>6</th>\n",
       "      <td>99646662</td>\n",
       "      <td>3/4/2018</td>\n",
       "      <td>13:21</td>\n",
       "      <td>Male</td>\n",
       "      <td>Water tower</td>\n",
       "      <td>Chicago</td>\n",
       "      <td>No</td>\n",
       "      <td>Clothing</td>\n",
       "      <td>81</td>\n",
       "      <td>3</td>\n",
       "      <td>243</td>\n",
       "      <td>Cash</td>\n",
       "      <td>4</td>\n",
       "    </tr>\n",
       "    <tr>\n",
       "      <th>7</th>\n",
       "      <td>188869875</td>\n",
       "      <td>3/8/2018</td>\n",
       "      <td>13:24</td>\n",
       "      <td>Male</td>\n",
       "      <td>Park lane</td>\n",
       "      <td>Dallas</td>\n",
       "      <td>No</td>\n",
       "      <td>Books</td>\n",
       "      <td>80</td>\n",
       "      <td>2</td>\n",
       "      <td>160</td>\n",
       "      <td>Cash</td>\n",
       "      <td>3</td>\n",
       "    </tr>\n",
       "    <tr>\n",
       "      <th>...</th>\n",
       "      <td>...</td>\n",
       "      <td>...</td>\n",
       "      <td>...</td>\n",
       "      <td>...</td>\n",
       "      <td>...</td>\n",
       "      <td>...</td>\n",
       "      <td>...</td>\n",
       "      <td>...</td>\n",
       "      <td>...</td>\n",
       "      <td>...</td>\n",
       "      <td>...</td>\n",
       "      <td>...</td>\n",
       "      <td>...</td>\n",
       "    </tr>\n",
       "    <tr>\n",
       "      <th>992</th>\n",
       "      <td>927909627</td>\n",
       "      <td>3/2/2018</td>\n",
       "      <td>13:35</td>\n",
       "      <td>Male</td>\n",
       "      <td>Brookfield</td>\n",
       "      <td>NewYork</td>\n",
       "      <td>No</td>\n",
       "      <td>Books</td>\n",
       "      <td>54</td>\n",
       "      <td>1</td>\n",
       "      <td>54</td>\n",
       "      <td>Card</td>\n",
       "      <td>1</td>\n",
       "    </tr>\n",
       "    <tr>\n",
       "      <th>994</th>\n",
       "      <td>446582560</td>\n",
       "      <td>1/31/2018</td>\n",
       "      <td>19:00</td>\n",
       "      <td>Male</td>\n",
       "      <td>Water tower</td>\n",
       "      <td>Chicago</td>\n",
       "      <td>No</td>\n",
       "      <td>Fashion</td>\n",
       "      <td>29</td>\n",
       "      <td>5</td>\n",
       "      <td>145</td>\n",
       "      <td>Cash</td>\n",
       "      <td>4</td>\n",
       "    </tr>\n",
       "    <tr>\n",
       "      <th>995</th>\n",
       "      <td>818829599</td>\n",
       "      <td>3/26/2018</td>\n",
       "      <td>11:19</td>\n",
       "      <td>Male</td>\n",
       "      <td>Park lane</td>\n",
       "      <td>Dallas</td>\n",
       "      <td>No</td>\n",
       "      <td>Groceries</td>\n",
       "      <td>31</td>\n",
       "      <td>4</td>\n",
       "      <td>124</td>\n",
       "      <td>Card</td>\n",
       "      <td>3</td>\n",
       "    </tr>\n",
       "    <tr>\n",
       "      <th>996</th>\n",
       "      <td>556589713</td>\n",
       "      <td>2/20/2018</td>\n",
       "      <td>17:17</td>\n",
       "      <td>Male</td>\n",
       "      <td>Water tower</td>\n",
       "      <td>Chicago</td>\n",
       "      <td>Yes</td>\n",
       "      <td>Groceries</td>\n",
       "      <td>3</td>\n",
       "      <td>5</td>\n",
       "      <td>15</td>\n",
       "      <td>Gpay</td>\n",
       "      <td>3</td>\n",
       "    </tr>\n",
       "    <tr>\n",
       "      <th>997</th>\n",
       "      <td>82324424</td>\n",
       "      <td>2/6/2018</td>\n",
       "      <td>11:44</td>\n",
       "      <td>Male</td>\n",
       "      <td>Brookfield</td>\n",
       "      <td>NewYork</td>\n",
       "      <td>No</td>\n",
       "      <td>Clothing</td>\n",
       "      <td>71</td>\n",
       "      <td>5</td>\n",
       "      <td>355</td>\n",
       "      <td>Card</td>\n",
       "      <td>3</td>\n",
       "    </tr>\n",
       "  </tbody>\n",
       "</table>\n",
       "<p>499 rows × 13 columns</p>\n",
       "</div>"
      ],
      "text/plain": [
       "     Invoice ID       Date   Time Gender     Location     City Member  \\\n",
       "0     460489604  1/25/2018  16:46   Male   Brookfield  NewYork    Yes   \n",
       "2     411909258  2/25/2018  13:33   Male  Water tower  Chicago     No   \n",
       "5     263634050   3/9/2018  17:55   Male   Brookfield  NewYork    Yes   \n",
       "6      99646662   3/4/2018  13:21   Male  Water tower  Chicago     No   \n",
       "7     188869875   3/8/2018  13:24   Male    Park lane   Dallas     No   \n",
       "..          ...        ...    ...    ...          ...      ...    ...   \n",
       "992   927909627   3/2/2018  13:35   Male   Brookfield  NewYork     No   \n",
       "994   446582560  1/31/2018  19:00   Male  Water tower  Chicago     No   \n",
       "995   818829599  3/26/2018  11:19   Male    Park lane   Dallas     No   \n",
       "996   556589713  2/20/2018  17:17   Male  Water tower  Chicago    Yes   \n",
       "997    82324424   2/6/2018  11:44   Male   Brookfield  NewYork     No   \n",
       "\n",
       "      Category  Price  Quantity  Total Payment  Rating  \n",
       "0    Groceries     30         1     30    Cash       2  \n",
       "2     Clothing     57         2    114    Cash       5  \n",
       "5     Clothing     52         4    208    Gpay       3  \n",
       "6     Clothing     81         3    243    Cash       4  \n",
       "7        Books     80         2    160    Cash       3  \n",
       "..         ...    ...       ...    ...     ...     ...  \n",
       "992      Books     54         1     54    Card       1  \n",
       "994    Fashion     29         5    145    Cash       4  \n",
       "995  Groceries     31         4    124    Card       3  \n",
       "996  Groceries      3         5     15    Gpay       3  \n",
       "997   Clothing     71         5    355    Card       3  \n",
       "\n",
       "[499 rows x 13 columns]"
      ]
     },
     "execution_count": 7,
     "metadata": {},
     "output_type": "execute_result"
    }
   ],
   "source": [
    "# condition specifying to fetch the data of males\n",
    "sales[sales['Gender']== 'Male']"
   ]
  },
  {
   "cell_type": "code",
   "execution_count": 8,
   "metadata": {},
   "outputs": [
    {
     "data": {
      "text/html": [
       "<div>\n",
       "<style scoped>\n",
       "    .dataframe tbody tr th:only-of-type {\n",
       "        vertical-align: middle;\n",
       "    }\n",
       "\n",
       "    .dataframe tbody tr th {\n",
       "        vertical-align: top;\n",
       "    }\n",
       "\n",
       "    .dataframe thead th {\n",
       "        text-align: right;\n",
       "    }\n",
       "</style>\n",
       "<table border=\"1\" class=\"dataframe\">\n",
       "  <thead>\n",
       "    <tr style=\"text-align: right;\">\n",
       "      <th></th>\n",
       "      <th>Invoice ID</th>\n",
       "      <th>Date</th>\n",
       "      <th>Time</th>\n",
       "      <th>Gender</th>\n",
       "      <th>Location</th>\n",
       "      <th>City</th>\n",
       "      <th>Member</th>\n",
       "      <th>Category</th>\n",
       "      <th>Price</th>\n",
       "      <th>Quantity</th>\n",
       "      <th>Total</th>\n",
       "      <th>Payment</th>\n",
       "      <th>Rating</th>\n",
       "    </tr>\n",
       "  </thead>\n",
       "  <tbody>\n",
       "    <tr>\n",
       "      <th>1</th>\n",
       "      <td>471006167</td>\n",
       "      <td>3/19/2018</td>\n",
       "      <td>16:48</td>\n",
       "      <td>Female</td>\n",
       "      <td>Water tower</td>\n",
       "      <td>Chicago</td>\n",
       "      <td>Yes</td>\n",
       "      <td>Fashion</td>\n",
       "      <td>35</td>\n",
       "      <td>5</td>\n",
       "      <td>175</td>\n",
       "      <td>Card</td>\n",
       "      <td>3</td>\n",
       "    </tr>\n",
       "    <tr>\n",
       "      <th>2</th>\n",
       "      <td>411909258</td>\n",
       "      <td>2/25/2018</td>\n",
       "      <td>13:33</td>\n",
       "      <td>Male</td>\n",
       "      <td>Water tower</td>\n",
       "      <td>Chicago</td>\n",
       "      <td>No</td>\n",
       "      <td>Clothing</td>\n",
       "      <td>57</td>\n",
       "      <td>2</td>\n",
       "      <td>114</td>\n",
       "      <td>Cash</td>\n",
       "      <td>5</td>\n",
       "    </tr>\n",
       "    <tr>\n",
       "      <th>3</th>\n",
       "      <td>487313402</td>\n",
       "      <td>1/22/2018</td>\n",
       "      <td>13:38</td>\n",
       "      <td>Female</td>\n",
       "      <td>Park lane</td>\n",
       "      <td>Dallas</td>\n",
       "      <td>Yes</td>\n",
       "      <td>Sporting</td>\n",
       "      <td>89</td>\n",
       "      <td>4</td>\n",
       "      <td>356</td>\n",
       "      <td>Gpay</td>\n",
       "      <td>1</td>\n",
       "    </tr>\n",
       "    <tr>\n",
       "      <th>4</th>\n",
       "      <td>197763430</td>\n",
       "      <td>2/18/2018</td>\n",
       "      <td>15:31</td>\n",
       "      <td>Female</td>\n",
       "      <td>Park lane</td>\n",
       "      <td>Dallas</td>\n",
       "      <td>No</td>\n",
       "      <td>Books</td>\n",
       "      <td>82</td>\n",
       "      <td>5</td>\n",
       "      <td>410</td>\n",
       "      <td>Cash</td>\n",
       "      <td>4</td>\n",
       "    </tr>\n",
       "    <tr>\n",
       "      <th>5</th>\n",
       "      <td>263634050</td>\n",
       "      <td>3/9/2018</td>\n",
       "      <td>17:55</td>\n",
       "      <td>Male</td>\n",
       "      <td>Brookfield</td>\n",
       "      <td>NewYork</td>\n",
       "      <td>Yes</td>\n",
       "      <td>Clothing</td>\n",
       "      <td>52</td>\n",
       "      <td>4</td>\n",
       "      <td>208</td>\n",
       "      <td>Gpay</td>\n",
       "      <td>3</td>\n",
       "    </tr>\n",
       "    <tr>\n",
       "      <th>6</th>\n",
       "      <td>99646662</td>\n",
       "      <td>3/4/2018</td>\n",
       "      <td>13:21</td>\n",
       "      <td>Male</td>\n",
       "      <td>Water tower</td>\n",
       "      <td>Chicago</td>\n",
       "      <td>No</td>\n",
       "      <td>Clothing</td>\n",
       "      <td>81</td>\n",
       "      <td>3</td>\n",
       "      <td>243</td>\n",
       "      <td>Cash</td>\n",
       "      <td>4</td>\n",
       "    </tr>\n",
       "    <tr>\n",
       "      <th>7</th>\n",
       "      <td>188869875</td>\n",
       "      <td>3/8/2018</td>\n",
       "      <td>13:24</td>\n",
       "      <td>Male</td>\n",
       "      <td>Park lane</td>\n",
       "      <td>Dallas</td>\n",
       "      <td>No</td>\n",
       "      <td>Books</td>\n",
       "      <td>80</td>\n",
       "      <td>2</td>\n",
       "      <td>160</td>\n",
       "      <td>Cash</td>\n",
       "      <td>3</td>\n",
       "    </tr>\n",
       "    <tr>\n",
       "      <th>8</th>\n",
       "      <td>325637547</td>\n",
       "      <td>1/18/2018</td>\n",
       "      <td>15:33</td>\n",
       "      <td>Male</td>\n",
       "      <td>Park lane</td>\n",
       "      <td>Dallas</td>\n",
       "      <td>Yes</td>\n",
       "      <td>Clothing</td>\n",
       "      <td>91</td>\n",
       "      <td>3</td>\n",
       "      <td>273</td>\n",
       "      <td>Card</td>\n",
       "      <td>3</td>\n",
       "    </tr>\n",
       "    <tr>\n",
       "      <th>9</th>\n",
       "      <td>562942936</td>\n",
       "      <td>2/24/2018</td>\n",
       "      <td>16:05</td>\n",
       "      <td>Female</td>\n",
       "      <td>Park lane</td>\n",
       "      <td>Dallas</td>\n",
       "      <td>No</td>\n",
       "      <td>Books</td>\n",
       "      <td>80</td>\n",
       "      <td>2</td>\n",
       "      <td>160</td>\n",
       "      <td>Cash</td>\n",
       "      <td>4</td>\n",
       "    </tr>\n",
       "    <tr>\n",
       "      <th>10</th>\n",
       "      <td>388412668</td>\n",
       "      <td>2/26/2018</td>\n",
       "      <td>11:32</td>\n",
       "      <td>Female</td>\n",
       "      <td>Brookfield</td>\n",
       "      <td>NewYork</td>\n",
       "      <td>No</td>\n",
       "      <td>Furniture</td>\n",
       "      <td>35</td>\n",
       "      <td>4</td>\n",
       "      <td>140</td>\n",
       "      <td>Gpay</td>\n",
       "      <td>4</td>\n",
       "    </tr>\n",
       "  </tbody>\n",
       "</table>\n",
       "</div>"
      ],
      "text/plain": [
       "    Invoice ID       Date   Time  Gender     Location     City Member  \\\n",
       "1    471006167  3/19/2018  16:48  Female  Water tower  Chicago    Yes   \n",
       "2    411909258  2/25/2018  13:33    Male  Water tower  Chicago     No   \n",
       "3    487313402  1/22/2018  13:38  Female    Park lane   Dallas    Yes   \n",
       "4    197763430  2/18/2018  15:31  Female    Park lane   Dallas     No   \n",
       "5    263634050   3/9/2018  17:55    Male   Brookfield  NewYork    Yes   \n",
       "6     99646662   3/4/2018  13:21    Male  Water tower  Chicago     No   \n",
       "7    188869875   3/8/2018  13:24    Male    Park lane   Dallas     No   \n",
       "8    325637547  1/18/2018  15:33    Male    Park lane   Dallas    Yes   \n",
       "9    562942936  2/24/2018  16:05  Female    Park lane   Dallas     No   \n",
       "10   388412668  2/26/2018  11:32  Female   Brookfield  NewYork     No   \n",
       "\n",
       "     Category  Price  Quantity  Total Payment  Rating  \n",
       "1     Fashion     35         5    175    Card       3  \n",
       "2    Clothing     57         2    114    Cash       5  \n",
       "3    Sporting     89         4    356    Gpay       1  \n",
       "4       Books     82         5    410    Cash       4  \n",
       "5    Clothing     52         4    208    Gpay       3  \n",
       "6    Clothing     81         3    243    Cash       4  \n",
       "7       Books     80         2    160    Cash       3  \n",
       "8    Clothing     91         3    273    Card       3  \n",
       "9       Books     80         2    160    Cash       4  \n",
       "10  Furniture     35         4    140    Gpay       4  "
      ]
     },
     "execution_count": 8,
     "metadata": {},
     "output_type": "execute_result"
    }
   ],
   "source": [
    "# fetch the data of total amount greater than 100\n",
    "sales[sales['Total']> 100].head(10)"
   ]
  },
  {
   "cell_type": "code",
   "execution_count": 9,
   "metadata": {},
   "outputs": [
    {
     "data": {
      "text/html": [
       "<div>\n",
       "<style scoped>\n",
       "    .dataframe tbody tr th:only-of-type {\n",
       "        vertical-align: middle;\n",
       "    }\n",
       "\n",
       "    .dataframe tbody tr th {\n",
       "        vertical-align: top;\n",
       "    }\n",
       "\n",
       "    .dataframe thead th {\n",
       "        text-align: right;\n",
       "    }\n",
       "</style>\n",
       "<table border=\"1\" class=\"dataframe\">\n",
       "  <thead>\n",
       "    <tr style=\"text-align: right;\">\n",
       "      <th></th>\n",
       "      <th>Invoice ID</th>\n",
       "      <th>Date</th>\n",
       "      <th>Time</th>\n",
       "      <th>Gender</th>\n",
       "      <th>Location</th>\n",
       "      <th>City</th>\n",
       "      <th>Member</th>\n",
       "      <th>Category</th>\n",
       "      <th>Price</th>\n",
       "      <th>Quantity</th>\n",
       "      <th>Total</th>\n",
       "      <th>Payment</th>\n",
       "      <th>Rating</th>\n",
       "    </tr>\n",
       "  </thead>\n",
       "  <tbody>\n",
       "    <tr>\n",
       "      <th>1</th>\n",
       "      <td>471006167</td>\n",
       "      <td>3/19/2018</td>\n",
       "      <td>16:48</td>\n",
       "      <td>Female</td>\n",
       "      <td>Water tower</td>\n",
       "      <td>Chicago</td>\n",
       "      <td>Yes</td>\n",
       "      <td>Fashion</td>\n",
       "      <td>35</td>\n",
       "      <td>5</td>\n",
       "      <td>175</td>\n",
       "      <td>Card</td>\n",
       "      <td>3</td>\n",
       "    </tr>\n",
       "    <tr>\n",
       "      <th>2</th>\n",
       "      <td>411909258</td>\n",
       "      <td>2/25/2018</td>\n",
       "      <td>13:33</td>\n",
       "      <td>Male</td>\n",
       "      <td>Water tower</td>\n",
       "      <td>Chicago</td>\n",
       "      <td>No</td>\n",
       "      <td>Clothing</td>\n",
       "      <td>57</td>\n",
       "      <td>2</td>\n",
       "      <td>114</td>\n",
       "      <td>Cash</td>\n",
       "      <td>5</td>\n",
       "    </tr>\n",
       "    <tr>\n",
       "      <th>7</th>\n",
       "      <td>188869875</td>\n",
       "      <td>3/8/2018</td>\n",
       "      <td>13:24</td>\n",
       "      <td>Male</td>\n",
       "      <td>Park lane</td>\n",
       "      <td>Dallas</td>\n",
       "      <td>No</td>\n",
       "      <td>Books</td>\n",
       "      <td>80</td>\n",
       "      <td>2</td>\n",
       "      <td>160</td>\n",
       "      <td>Cash</td>\n",
       "      <td>3</td>\n",
       "    </tr>\n",
       "    <tr>\n",
       "      <th>9</th>\n",
       "      <td>562942936</td>\n",
       "      <td>2/24/2018</td>\n",
       "      <td>16:05</td>\n",
       "      <td>Female</td>\n",
       "      <td>Park lane</td>\n",
       "      <td>Dallas</td>\n",
       "      <td>No</td>\n",
       "      <td>Books</td>\n",
       "      <td>80</td>\n",
       "      <td>2</td>\n",
       "      <td>160</td>\n",
       "      <td>Cash</td>\n",
       "      <td>4</td>\n",
       "    </tr>\n",
       "    <tr>\n",
       "      <th>10</th>\n",
       "      <td>388412668</td>\n",
       "      <td>2/26/2018</td>\n",
       "      <td>11:32</td>\n",
       "      <td>Female</td>\n",
       "      <td>Brookfield</td>\n",
       "      <td>NewYork</td>\n",
       "      <td>No</td>\n",
       "      <td>Furniture</td>\n",
       "      <td>35</td>\n",
       "      <td>4</td>\n",
       "      <td>140</td>\n",
       "      <td>Gpay</td>\n",
       "      <td>4</td>\n",
       "    </tr>\n",
       "    <tr>\n",
       "      <th>...</th>\n",
       "      <td>...</td>\n",
       "      <td>...</td>\n",
       "      <td>...</td>\n",
       "      <td>...</td>\n",
       "      <td>...</td>\n",
       "      <td>...</td>\n",
       "      <td>...</td>\n",
       "      <td>...</td>\n",
       "      <td>...</td>\n",
       "      <td>...</td>\n",
       "      <td>...</td>\n",
       "      <td>...</td>\n",
       "      <td>...</td>\n",
       "    </tr>\n",
       "    <tr>\n",
       "      <th>977</th>\n",
       "      <td>614557665</td>\n",
       "      <td>3/22/2018</td>\n",
       "      <td>17:16</td>\n",
       "      <td>Female</td>\n",
       "      <td>Park lane</td>\n",
       "      <td>Dallas</td>\n",
       "      <td>No</td>\n",
       "      <td>Clothing</td>\n",
       "      <td>49</td>\n",
       "      <td>3</td>\n",
       "      <td>147</td>\n",
       "      <td>Cash</td>\n",
       "      <td>5</td>\n",
       "    </tr>\n",
       "    <tr>\n",
       "      <th>981</th>\n",
       "      <td>418253101</td>\n",
       "      <td>3/14/2018</td>\n",
       "      <td>12:25</td>\n",
       "      <td>Female</td>\n",
       "      <td>Brookfield</td>\n",
       "      <td>NewYork</td>\n",
       "      <td>No</td>\n",
       "      <td>Fashion</td>\n",
       "      <td>81</td>\n",
       "      <td>2</td>\n",
       "      <td>162</td>\n",
       "      <td>Gpay</td>\n",
       "      <td>5</td>\n",
       "    </tr>\n",
       "    <tr>\n",
       "      <th>989</th>\n",
       "      <td>941364541</td>\n",
       "      <td>3/13/2018</td>\n",
       "      <td>14:53</td>\n",
       "      <td>Female</td>\n",
       "      <td>Brookfield</td>\n",
       "      <td>NewYork</td>\n",
       "      <td>No</td>\n",
       "      <td>Sporting</td>\n",
       "      <td>19</td>\n",
       "      <td>7</td>\n",
       "      <td>133</td>\n",
       "      <td>Cash</td>\n",
       "      <td>1</td>\n",
       "    </tr>\n",
       "    <tr>\n",
       "      <th>994</th>\n",
       "      <td>446582560</td>\n",
       "      <td>1/31/2018</td>\n",
       "      <td>19:00</td>\n",
       "      <td>Male</td>\n",
       "      <td>Water tower</td>\n",
       "      <td>Chicago</td>\n",
       "      <td>No</td>\n",
       "      <td>Fashion</td>\n",
       "      <td>29</td>\n",
       "      <td>5</td>\n",
       "      <td>145</td>\n",
       "      <td>Cash</td>\n",
       "      <td>4</td>\n",
       "    </tr>\n",
       "    <tr>\n",
       "      <th>995</th>\n",
       "      <td>818829599</td>\n",
       "      <td>3/26/2018</td>\n",
       "      <td>11:19</td>\n",
       "      <td>Male</td>\n",
       "      <td>Park lane</td>\n",
       "      <td>Dallas</td>\n",
       "      <td>No</td>\n",
       "      <td>Groceries</td>\n",
       "      <td>31</td>\n",
       "      <td>4</td>\n",
       "      <td>124</td>\n",
       "      <td>Card</td>\n",
       "      <td>3</td>\n",
       "    </tr>\n",
       "  </tbody>\n",
       "</table>\n",
       "<p>231 rows × 13 columns</p>\n",
       "</div>"
      ],
      "text/plain": [
       "     Invoice ID       Date   Time  Gender     Location     City Member  \\\n",
       "1     471006167  3/19/2018  16:48  Female  Water tower  Chicago    Yes   \n",
       "2     411909258  2/25/2018  13:33    Male  Water tower  Chicago     No   \n",
       "7     188869875   3/8/2018  13:24    Male    Park lane   Dallas     No   \n",
       "9     562942936  2/24/2018  16:05  Female    Park lane   Dallas     No   \n",
       "10    388412668  2/26/2018  11:32  Female   Brookfield  NewYork     No   \n",
       "..          ...        ...    ...     ...          ...      ...    ...   \n",
       "977   614557665  3/22/2018  17:16  Female    Park lane   Dallas     No   \n",
       "981   418253101  3/14/2018  12:25  Female   Brookfield  NewYork     No   \n",
       "989   941364541  3/13/2018  14:53  Female   Brookfield  NewYork     No   \n",
       "994   446582560  1/31/2018  19:00    Male  Water tower  Chicago     No   \n",
       "995   818829599  3/26/2018  11:19    Male    Park lane   Dallas     No   \n",
       "\n",
       "      Category  Price  Quantity  Total Payment  Rating  \n",
       "1      Fashion     35         5    175    Card       3  \n",
       "2     Clothing     57         2    114    Cash       5  \n",
       "7        Books     80         2    160    Cash       3  \n",
       "9        Books     80         2    160    Cash       4  \n",
       "10   Furniture     35         4    140    Gpay       4  \n",
       "..         ...    ...       ...    ...     ...     ...  \n",
       "977   Clothing     49         3    147    Cash       5  \n",
       "981    Fashion     81         2    162    Gpay       5  \n",
       "989   Sporting     19         7    133    Cash       1  \n",
       "994    Fashion     29         5    145    Cash       4  \n",
       "995  Groceries     31         4    124    Card       3  \n",
       "\n",
       "[231 rows x 13 columns]"
      ]
     },
     "execution_count": 9,
     "metadata": {},
     "output_type": "execute_result"
    }
   ],
   "source": [
    "# find the sales where total less than 200 and greater than 100\n",
    "sales.query('100<Total<200')"
   ]
  },
  {
   "cell_type": "code",
   "execution_count": 10,
   "metadata": {},
   "outputs": [
    {
     "data": {
      "text/html": [
       "<div>\n",
       "<style scoped>\n",
       "    .dataframe tbody tr th:only-of-type {\n",
       "        vertical-align: middle;\n",
       "    }\n",
       "\n",
       "    .dataframe tbody tr th {\n",
       "        vertical-align: top;\n",
       "    }\n",
       "\n",
       "    .dataframe thead th {\n",
       "        text-align: right;\n",
       "    }\n",
       "</style>\n",
       "<table border=\"1\" class=\"dataframe\">\n",
       "  <thead>\n",
       "    <tr style=\"text-align: right;\">\n",
       "      <th></th>\n",
       "      <th>Invoice ID</th>\n",
       "      <th>Date</th>\n",
       "      <th>Time</th>\n",
       "      <th>Gender</th>\n",
       "      <th>Location</th>\n",
       "      <th>City</th>\n",
       "      <th>Member</th>\n",
       "      <th>Category</th>\n",
       "      <th>Price</th>\n",
       "      <th>Quantity</th>\n",
       "      <th>Total</th>\n",
       "      <th>Payment</th>\n",
       "      <th>Rating</th>\n",
       "    </tr>\n",
       "  </thead>\n",
       "  <tbody>\n",
       "    <tr>\n",
       "      <th>0</th>\n",
       "      <td>460489604</td>\n",
       "      <td>1/25/2018</td>\n",
       "      <td>16:46</td>\n",
       "      <td>Male</td>\n",
       "      <td>Brookfield</td>\n",
       "      <td>NewYork</td>\n",
       "      <td>Yes</td>\n",
       "      <td>Groceries</td>\n",
       "      <td>30</td>\n",
       "      <td>1</td>\n",
       "      <td>30</td>\n",
       "      <td>Cash</td>\n",
       "      <td>2</td>\n",
       "    </tr>\n",
       "    <tr>\n",
       "      <th>20</th>\n",
       "      <td>619639105</td>\n",
       "      <td>3/26/2018</td>\n",
       "      <td>19:48</td>\n",
       "      <td>Female</td>\n",
       "      <td>Brookfield</td>\n",
       "      <td>NewYork</td>\n",
       "      <td>No</td>\n",
       "      <td>Groceries</td>\n",
       "      <td>44</td>\n",
       "      <td>6</td>\n",
       "      <td>264</td>\n",
       "      <td>Cash</td>\n",
       "      <td>1</td>\n",
       "    </tr>\n",
       "    <tr>\n",
       "      <th>31</th>\n",
       "      <td>567867755</td>\n",
       "      <td>2/3/2018</td>\n",
       "      <td>20:59</td>\n",
       "      <td>Female</td>\n",
       "      <td>Brookfield</td>\n",
       "      <td>NewYork</td>\n",
       "      <td>No</td>\n",
       "      <td>Furniture</td>\n",
       "      <td>86</td>\n",
       "      <td>3</td>\n",
       "      <td>258</td>\n",
       "      <td>Cash</td>\n",
       "      <td>2</td>\n",
       "    </tr>\n",
       "    <tr>\n",
       "      <th>37</th>\n",
       "      <td>460044751</td>\n",
       "      <td>2/22/2018</td>\n",
       "      <td>16:20</td>\n",
       "      <td>Male</td>\n",
       "      <td>Brookfield</td>\n",
       "      <td>NewYork</td>\n",
       "      <td>No</td>\n",
       "      <td>Fashion</td>\n",
       "      <td>45</td>\n",
       "      <td>5</td>\n",
       "      <td>225</td>\n",
       "      <td>Cash</td>\n",
       "      <td>4</td>\n",
       "    </tr>\n",
       "    <tr>\n",
       "      <th>70</th>\n",
       "      <td>554361739</td>\n",
       "      <td>1/2/2018</td>\n",
       "      <td>17:24</td>\n",
       "      <td>Male</td>\n",
       "      <td>Brookfield</td>\n",
       "      <td>NewYork</td>\n",
       "      <td>Yes</td>\n",
       "      <td>Books</td>\n",
       "      <td>97</td>\n",
       "      <td>6</td>\n",
       "      <td>582</td>\n",
       "      <td>Cash</td>\n",
       "      <td>4</td>\n",
       "    </tr>\n",
       "    <tr>\n",
       "      <th>...</th>\n",
       "      <td>...</td>\n",
       "      <td>...</td>\n",
       "      <td>...</td>\n",
       "      <td>...</td>\n",
       "      <td>...</td>\n",
       "      <td>...</td>\n",
       "      <td>...</td>\n",
       "      <td>...</td>\n",
       "      <td>...</td>\n",
       "      <td>...</td>\n",
       "      <td>...</td>\n",
       "      <td>...</td>\n",
       "      <td>...</td>\n",
       "    </tr>\n",
       "    <tr>\n",
       "      <th>940</th>\n",
       "      <td>919895826</td>\n",
       "      <td>1/14/2018</td>\n",
       "      <td>17:12</td>\n",
       "      <td>Male</td>\n",
       "      <td>Brookfield</td>\n",
       "      <td>NewYork</td>\n",
       "      <td>Yes</td>\n",
       "      <td>Furniture</td>\n",
       "      <td>37</td>\n",
       "      <td>6</td>\n",
       "      <td>222</td>\n",
       "      <td>Cash</td>\n",
       "      <td>3</td>\n",
       "    </tr>\n",
       "    <tr>\n",
       "      <th>969</th>\n",
       "      <td>134230335</td>\n",
       "      <td>2/26/2018</td>\n",
       "      <td>20:51</td>\n",
       "      <td>Male</td>\n",
       "      <td>Brookfield</td>\n",
       "      <td>NewYork</td>\n",
       "      <td>No</td>\n",
       "      <td>Books</td>\n",
       "      <td>88</td>\n",
       "      <td>5</td>\n",
       "      <td>440</td>\n",
       "      <td>Cash</td>\n",
       "      <td>5</td>\n",
       "    </tr>\n",
       "    <tr>\n",
       "      <th>989</th>\n",
       "      <td>941364541</td>\n",
       "      <td>3/13/2018</td>\n",
       "      <td>14:53</td>\n",
       "      <td>Female</td>\n",
       "      <td>Brookfield</td>\n",
       "      <td>NewYork</td>\n",
       "      <td>No</td>\n",
       "      <td>Sporting</td>\n",
       "      <td>19</td>\n",
       "      <td>7</td>\n",
       "      <td>133</td>\n",
       "      <td>Cash</td>\n",
       "      <td>1</td>\n",
       "    </tr>\n",
       "    <tr>\n",
       "      <th>993</th>\n",
       "      <td>455112063</td>\n",
       "      <td>3/19/2018</td>\n",
       "      <td>17:30</td>\n",
       "      <td>Female</td>\n",
       "      <td>Brookfield</td>\n",
       "      <td>NewYork</td>\n",
       "      <td>Yes</td>\n",
       "      <td>Clothing</td>\n",
       "      <td>3</td>\n",
       "      <td>3</td>\n",
       "      <td>9</td>\n",
       "      <td>Cash</td>\n",
       "      <td>2</td>\n",
       "    </tr>\n",
       "    <tr>\n",
       "      <th>998</th>\n",
       "      <td>783661702</td>\n",
       "      <td>1/29/2018</td>\n",
       "      <td>15:44</td>\n",
       "      <td>Female</td>\n",
       "      <td>Brookfield</td>\n",
       "      <td>NewYork</td>\n",
       "      <td>No</td>\n",
       "      <td>Clothing</td>\n",
       "      <td>89</td>\n",
       "      <td>7</td>\n",
       "      <td>623</td>\n",
       "      <td>Cash</td>\n",
       "      <td>5</td>\n",
       "    </tr>\n",
       "  </tbody>\n",
       "</table>\n",
       "<p>110 rows × 13 columns</p>\n",
       "</div>"
      ],
      "text/plain": [
       "     Invoice ID       Date   Time  Gender    Location     City Member  \\\n",
       "0     460489604  1/25/2018  16:46    Male  Brookfield  NewYork    Yes   \n",
       "20    619639105  3/26/2018  19:48  Female  Brookfield  NewYork     No   \n",
       "31    567867755   2/3/2018  20:59  Female  Brookfield  NewYork     No   \n",
       "37    460044751  2/22/2018  16:20    Male  Brookfield  NewYork     No   \n",
       "70    554361739   1/2/2018  17:24    Male  Brookfield  NewYork    Yes   \n",
       "..          ...        ...    ...     ...         ...      ...    ...   \n",
       "940   919895826  1/14/2018  17:12    Male  Brookfield  NewYork    Yes   \n",
       "969   134230335  2/26/2018  20:51    Male  Brookfield  NewYork     No   \n",
       "989   941364541  3/13/2018  14:53  Female  Brookfield  NewYork     No   \n",
       "993   455112063  3/19/2018  17:30  Female  Brookfield  NewYork    Yes   \n",
       "998   783661702  1/29/2018  15:44  Female  Brookfield  NewYork     No   \n",
       "\n",
       "      Category  Price  Quantity  Total Payment  Rating  \n",
       "0    Groceries     30         1     30    Cash       2  \n",
       "20   Groceries     44         6    264    Cash       1  \n",
       "31   Furniture     86         3    258    Cash       2  \n",
       "37     Fashion     45         5    225    Cash       4  \n",
       "70       Books     97         6    582    Cash       4  \n",
       "..         ...    ...       ...    ...     ...     ...  \n",
       "940  Furniture     37         6    222    Cash       3  \n",
       "969      Books     88         5    440    Cash       5  \n",
       "989   Sporting     19         7    133    Cash       1  \n",
       "993   Clothing      3         3      9    Cash       2  \n",
       "998   Clothing     89         7    623    Cash       5  \n",
       "\n",
       "[110 rows x 13 columns]"
      ]
     },
     "execution_count": 10,
     "metadata": {},
     "output_type": "execute_result"
    }
   ],
   "source": [
    "# sales in newyork made through cash\n",
    "sales.query('Payment==\"Cash\" & City== \"NewYork\"')"
   ]
  },
  {
   "cell_type": "code",
   "execution_count": 11,
   "metadata": {},
   "outputs": [
    {
     "name": "stdout",
     "output_type": "stream",
     "text": [
      "207788 693\n"
     ]
    }
   ],
   "source": [
    "# add the total values\n",
    "total1 = sales.sum()['Total']\n",
    "# max value in total\n",
    "max1 = sales.max()['Total']\n",
    "print(total1,max1)"
   ]
  },
  {
   "cell_type": "code",
   "execution_count": 12,
   "metadata": {},
   "outputs": [
    {
     "data": {
      "text/html": [
       "<div>\n",
       "<style scoped>\n",
       "    .dataframe tbody tr th:only-of-type {\n",
       "        vertical-align: middle;\n",
       "    }\n",
       "\n",
       "    .dataframe tbody tr th {\n",
       "        vertical-align: top;\n",
       "    }\n",
       "\n",
       "    .dataframe thead th {\n",
       "        text-align: right;\n",
       "    }\n",
       "</style>\n",
       "<table border=\"1\" class=\"dataframe\">\n",
       "  <thead>\n",
       "    <tr style=\"text-align: right;\">\n",
       "      <th></th>\n",
       "      <th>Invoice ID</th>\n",
       "      <th>Date</th>\n",
       "      <th>Time</th>\n",
       "      <th>Gender</th>\n",
       "      <th>Location</th>\n",
       "      <th>City</th>\n",
       "      <th>Member</th>\n",
       "      <th>Category</th>\n",
       "      <th>Price</th>\n",
       "      <th>Quantity</th>\n",
       "      <th>Total</th>\n",
       "      <th>Payment</th>\n",
       "      <th>Rating</th>\n",
       "    </tr>\n",
       "  </thead>\n",
       "  <tbody>\n",
       "    <tr>\n",
       "      <th>47</th>\n",
       "      <td>315624039</td>\n",
       "      <td>3/30/2018</td>\n",
       "      <td>19:45</td>\n",
       "      <td>Female</td>\n",
       "      <td>Water tower</td>\n",
       "      <td>Chicago</td>\n",
       "      <td>Yes</td>\n",
       "      <td>Groceries</td>\n",
       "      <td>99</td>\n",
       "      <td>7</td>\n",
       "      <td>693</td>\n",
       "      <td>Gpay</td>\n",
       "      <td>3</td>\n",
       "    </tr>\n",
       "    <tr>\n",
       "      <th>679</th>\n",
       "      <td>270918350</td>\n",
       "      <td>3/27/2018</td>\n",
       "      <td>13:21</td>\n",
       "      <td>Female</td>\n",
       "      <td>Park lane</td>\n",
       "      <td>Dallas</td>\n",
       "      <td>Yes</td>\n",
       "      <td>Groceries</td>\n",
       "      <td>99</td>\n",
       "      <td>7</td>\n",
       "      <td>693</td>\n",
       "      <td>Gpay</td>\n",
       "      <td>2</td>\n",
       "    </tr>\n",
       "  </tbody>\n",
       "</table>\n",
       "</div>"
      ],
      "text/plain": [
       "     Invoice ID       Date   Time  Gender     Location     City Member  \\\n",
       "47    315624039  3/30/2018  19:45  Female  Water tower  Chicago    Yes   \n",
       "679   270918350  3/27/2018  13:21  Female    Park lane   Dallas    Yes   \n",
       "\n",
       "      Category  Price  Quantity  Total Payment  Rating  \n",
       "47   Groceries     99         7    693    Gpay       3  \n",
       "679  Groceries     99         7    693    Gpay       2  "
      ]
     },
     "execution_count": 12,
     "metadata": {},
     "output_type": "execute_result"
    }
   ],
   "source": [
    "# find user who has spent max amount\n",
    "sales[sales['Total']==max1]"
   ]
  },
  {
   "cell_type": "code",
   "execution_count": 13,
   "metadata": {},
   "outputs": [
    {
     "data": {
      "text/plain": [
       "Category\n",
       "Books        36103\n",
       "Clothing     35925\n",
       "Fashion      32778\n",
       "Furniture    34141\n",
       "Groceries    31236\n",
       "Sporting     37605\n",
       "Name: Total, dtype: int64"
      ]
     },
     "execution_count": 13,
     "metadata": {},
     "output_type": "execute_result"
    }
   ],
   "source": [
    "#find sales by individual category sum\n",
    "sales.groupby('Category').sum()['Total']"
   ]
  },
  {
   "cell_type": "markdown",
   "metadata": {},
   "source": [
    "    ANALYZE MORE WITH PLOTS"
   ]
  },
  {
   "cell_type": "markdown",
   "metadata": {},
   "source": [
    "ANALYSIS FOR BUSINESS QUESTIONS\n",
    "- Which location has highest and lowest sales?\n",
    "- Represent the sales on a bar chart.\n",
    "- Each location's market share using pie chart."
   ]
  },
  {
   "cell_type": "code",
   "execution_count": 18,
   "metadata": {},
   "outputs": [
    {
     "data": {
      "text/plain": [
       "['Brookfield', 'Park lane', 'Water tower']"
      ]
     },
     "execution_count": 18,
     "metadata": {},
     "output_type": "execute_result"
    }
   ],
   "source": [
    "locations = sales.groupby('Location')\n",
    "# get all the locations\n",
    "locate = [x for x,y in locations]\n",
    "locate"
   ]
  },
  {
   "cell_type": "code",
   "execution_count": 20,
   "metadata": {},
   "outputs": [
    {
     "data": {
      "text/plain": [
       "Location\n",
       "Brookfield     72141\n",
       "Park lane      70432\n",
       "Water tower    65215\n",
       "Name: Total, dtype: int64"
      ]
     },
     "execution_count": 20,
     "metadata": {},
     "output_type": "execute_result"
    }
   ],
   "source": [
    "# finding the total sales at the branches\n",
    "sales.groupby('Location').sum()['Total']"
   ]
  },
  {
   "cell_type": "code",
   "execution_count": 30,
   "metadata": {},
   "outputs": [
    {
     "data": {
      "image/png": "[encoded data removed]",
      "text/plain": [
       "<Figure size 432x288 with 1 Axes>"
      ]
     },
     "metadata": {
      "needs_background": "light"
     },
     "output_type": "display_data"
    }
   ],
   "source": [
    "import matplotlib.pyplot as plt\n",
    "plt.bar(locate, sales.groupby('Location').sum()['Total'] )\n",
    "plt.show()\n"
   ]
  },
  {
   "cell_type": "code",
   "execution_count": 33,
   "metadata": {},
   "outputs": [
    {
     "data": {
      "image/png": "[encoded data removed]",
      "text/plain": [
       "<Figure size 432x288 with 1 Axes>"
      ]
     },
     "metadata": {},
     "output_type": "display_data"
    }
   ],
   "source": [
    "plt.pie(sales.groupby('Location').sum()['Total'], \n",
    "    labels= locate,\n",
    "    autopct= '% 1.1f%%')\n",
    "plt.show()"
   ]
  },
  {
   "cell_type": "markdown",
   "metadata": {},
   "source": [
    "    CLASSIFYING SHOPPERS"
   ]
  },
  {
   "cell_type": "code",
   "execution_count": 45,
   "metadata": {},
   "outputs": [],
   "source": [
    "# classify data using gend as well as branch\n",
    "location_sales = sales.groupby(['Gender', 'Location']).count()['Invoice ID']"
   ]
  },
  {
   "cell_type": "code",
   "execution_count": 47,
   "metadata": {},
   "outputs": [
    {
     "data": {
      "text/html": [
       "<div>\n",
       "<style scoped>\n",
       "    .dataframe tbody tr th:only-of-type {\n",
       "        vertical-align: middle;\n",
       "    }\n",
       "\n",
       "    .dataframe tbody tr th {\n",
       "        vertical-align: top;\n",
       "    }\n",
       "\n",
       "    .dataframe thead th {\n",
       "        text-align: right;\n",
       "    }\n",
       "</style>\n",
       "<table border=\"1\" class=\"dataframe\">\n",
       "  <thead>\n",
       "    <tr style=\"text-align: right;\">\n",
       "      <th>Gender</th>\n",
       "      <th>Female</th>\n",
       "      <th>Male</th>\n",
       "    </tr>\n",
       "    <tr>\n",
       "      <th>Location</th>\n",
       "      <th></th>\n",
       "      <th></th>\n",
       "    </tr>\n",
       "  </thead>\n",
       "  <tbody>\n",
       "    <tr>\n",
       "      <th>Brookfield</th>\n",
       "      <td>179</td>\n",
       "      <td>161</td>\n",
       "    </tr>\n",
       "    <tr>\n",
       "      <th>Park lane</th>\n",
       "      <td>179</td>\n",
       "      <td>153</td>\n",
       "    </tr>\n",
       "    <tr>\n",
       "      <th>Water tower</th>\n",
       "      <td>143</td>\n",
       "      <td>185</td>\n",
       "    </tr>\n",
       "  </tbody>\n",
       "</table>\n",
       "</div>"
      ],
      "text/plain": [
       "Gender       Female  Male\n",
       "Location                 \n",
       "Brookfield      179   161\n",
       "Park lane       179   153\n",
       "Water tower     143   185"
      ]
     },
     "execution_count": 47,
     "metadata": {},
     "output_type": "execute_result"
    }
   ],
   "source": [
    "# unstack method used to get the regular row and col sequence\n",
    "unstack_data = location_sales.unstack(level=0)\n",
    "unstack_data"
   ]
  },
  {
   "cell_type": "code",
   "execution_count": 49,
   "metadata": {},
   "outputs": [
    {
     "data": {
      "image/png": "[encoded data removed]",
      "text/plain": [
       "<Figure size 432x288 with 1 Axes>"
      ]
     },
     "metadata": {
      "needs_background": "light"
     },
     "output_type": "display_data"
    }
   ],
   "source": [
    "unstack_data.plot(kind='bar')\n",
    "plt.show()"
   ]
  },
  {
   "cell_type": "markdown",
   "metadata": {},
   "source": [
    "    ANALYZING MEMBERSHIP & RATINGS"
   ]
  },
  {
   "cell_type": "code",
   "execution_count": 57,
   "metadata": {},
   "outputs": [
    {
     "data": {
      "text/plain": [
       "Member  Location   \n",
       "No      Brookfield     173\n",
       "        Park lane      167\n",
       "        Water tower    159\n",
       "Yes     Brookfield     167\n",
       "        Park lane      165\n",
       "        Water tower    169\n",
       "Name: Invoice ID, dtype: int64"
      ]
     },
     "execution_count": 57,
     "metadata": {},
     "output_type": "execute_result"
    }
   ],
   "source": [
    "# WHICH BRANCH HAS MORE MEMBERS VS LESS MEMBERS\n",
    "members = sales.groupby([ 'Member','Location']).count()['Invoice ID']\n",
    "members "
   ]
  },
  {
   "cell_type": "code",
   "execution_count": 139,
   "metadata": {},
   "outputs": [
    {
     "data": {
      "image/png": "[encoded data removed]",
      "text/plain": [
       "<Figure size 432x288 with 1 Axes>"
      ]
     },
     "metadata": {
      "needs_background": "light"
     },
     "output_type": "display_data"
    }
   ],
   "source": [
    "members.unstack(level=0).plot(kind= 'bar')\n",
    "plt.show()"
   ]
  },
  {
   "cell_type": "code",
   "execution_count": 69,
   "metadata": {},
   "outputs": [
    {
     "data": {
      "text/plain": [
       "Location\n",
       "Brookfield     2.782353\n",
       "Park lane      3.021084\n",
       "Water tower    3.118902\n",
       "Name: Rating, dtype: float64"
      ]
     },
     "execution_count": 69,
     "metadata": {},
     "output_type": "execute_result"
    }
   ],
   "source": [
    "# RATINGS ACROSS BRANCHES\n",
    "rating = sales.groupby('Location').mean()['Rating']\n",
    "rating"
   ]
  },
  {
   "cell_type": "code",
   "execution_count": 71,
   "metadata": {},
   "outputs": [
    {
     "data": {
      "text/plain": [
       "<function matplotlib.pyplot.show(close=None, block=None)>"
      ]
     },
     "execution_count": 71,
     "metadata": {},
     "output_type": "execute_result"
    },
    {
     "data": {
      "image/png": "[encoded data removed]",
      "text/plain": [
       "<Figure size 432x288 with 1 Axes>"
      ]
     },
     "metadata": {
      "needs_background": "light"
     },
     "output_type": "display_data"
    }
   ],
   "source": [
    "rating.plot(kind= 'bar')\n",
    "plt.show"
   ]
  },
  {
   "cell_type": "markdown",
   "metadata": {},
   "source": [
    "SOLVING SOME QUERIES"
   ]
  },
  {
   "cell_type": "code",
   "execution_count": 78,
   "metadata": {},
   "outputs": [],
   "source": [
    "#A)WHICH CITY HAS MORE FEMALE SHOPPERS?\n",
    "shoppers = sales.groupby(['City','Gender']).count()['Invoice ID']"
   ]
  },
  {
   "cell_type": "code",
   "execution_count": 82,
   "metadata": {},
   "outputs": [
    {
     "data": {
      "text/plain": [
       "<AxesSubplot:xlabel='Gender'>"
      ]
     },
     "execution_count": 82,
     "metadata": {},
     "output_type": "execute_result"
    },
    {
     "data": {
      "image/png": "[encoded data removed]",
      "text/plain": [
       "<Figure size 432x288 with 1 Axes>"
      ]
     },
     "metadata": {
      "needs_background": "light"
     },
     "output_type": "display_data"
    }
   ],
   "source": [
    "shoppers.unstack(level=0).plot(kind='bar')\n",
    "plt.show()"
   ]
  },
  {
   "cell_type": "markdown",
   "metadata": {},
   "source": [
    "--- Above analysis city of Dallas and Newyork has more female shoppers ---"
   ]
  },
  {
   "cell_type": "code",
   "execution_count": 86,
   "metadata": {},
   "outputs": [],
   "source": [
    "#B) WHO SPENT MORE MEN OR WOMEN ON SHOPPING?\n",
    "spend = sales.groupby('Gender').sum()['Total']"
   ]
  },
  {
   "cell_type": "code",
   "execution_count": 87,
   "metadata": {},
   "outputs": [
    {
     "data": {
      "image/png": "[encoded data removed]",
      "text/plain": [
       "<Figure size 432x288 with 1 Axes>"
      ]
     },
     "metadata": {
      "needs_background": "light"
     },
     "output_type": "display_data"
    }
   ],
   "source": [
    "spend.plot(kind='bar')\n",
    "plt.show()"
   ]
  },
  {
   "cell_type": "markdown",
   "metadata": {},
   "source": [
    "--- Above analysis women spent slightly more than men ---"
   ]
  },
  {
   "cell_type": "code",
   "execution_count": 96,
   "metadata": {},
   "outputs": [
    {
     "data": {
      "text/plain": [
       "Category\n",
       "Books        165\n",
       "Clothing     170\n",
       "Fashion      153\n",
       "Furniture    160\n",
       "Groceries    174\n",
       "Sporting     178\n",
       "Name: Invoice ID, dtype: int64"
      ]
     },
     "execution_count": 96,
     "metadata": {},
     "output_type": "execute_result"
    }
   ],
   "source": [
    "#C) WHICH PRODUCT LINE SELLS MORE\n",
    "products = sales.groupby('Category').count()['Invoice ID']\n",
    "products"
   ]
  },
  {
   "cell_type": "code",
   "execution_count": 97,
   "metadata": {},
   "outputs": [
    {
     "data": {
      "image/png": "[encoded data removed]",
      "text/plain": [
       "<Figure size 432x288 with 1 Axes>"
      ]
     },
     "metadata": {
      "needs_background": "light"
     },
     "output_type": "display_data"
    }
   ],
   "source": [
    "products.plot(kind= 'bar')\n",
    "plt.show()"
   ]
  },
  {
   "cell_type": "markdown",
   "metadata": {},
   "source": [
    "--- above analysis we can see that sporting sells more ---"
   ]
  },
  {
   "cell_type": "code",
   "execution_count": 106,
   "metadata": {},
   "outputs": [],
   "source": [
    "# D) WHICH PRODUCT LINE IS POPULAR AMONG MEN VS WOMEN\n",
    "prod_men_women = sales.groupby(['Category','Gender']).count()['Invoice ID'] "
   ]
  },
  {
   "cell_type": "code",
   "execution_count": 107,
   "metadata": {},
   "outputs": [
    {
     "data": {
      "image/png": "[encoded data removed]",
      "text/plain": [
       "<Figure size 432x288 with 1 Axes>"
      ]
     },
     "metadata": {
      "needs_background": "light"
     },
     "output_type": "display_data"
    }
   ],
   "source": [
    "prod_men_women.unstack(level=0).plot(kind='bar')\n",
    "plt.show()"
   ]
  },
  {
   "cell_type": "markdown",
   "metadata": {},
   "source": [
    "--- Above analysis product lines famous\n",
    "    Men -  Sporting\n",
    "    women - Books -----"
   ]
  },
  {
   "cell_type": "markdown",
   "metadata": {},
   "source": [
    "    CLASSIFYING SALES BY DATES"
   ]
  },
  {
   "cell_type": "code",
   "execution_count": 111,
   "metadata": {},
   "outputs": [
    {
     "data": {
      "text/plain": [
       "0     2018-01-25\n",
       "1     2018-03-19\n",
       "2     2018-02-25\n",
       "3     2018-01-22\n",
       "4     2018-02-18\n",
       "         ...    \n",
       "995   2018-03-26\n",
       "996   2018-02-20\n",
       "997   2018-02-06\n",
       "998   2018-01-29\n",
       "999   2018-01-31\n",
       "Name: Date, Length: 1000, dtype: datetime64[ns]"
      ]
     },
     "execution_count": 111,
     "metadata": {},
     "output_type": "execute_result"
    }
   ],
   "source": [
    "# WHAT DAYS OF THE MONTH MAKE MOST SALES\n",
    "# To access data we are usin pandas datetime method so,\n",
    "# datatype changes from object to datetime\n",
    "pd.to_datetime(sales['Date'])"
   ]
  },
  {
   "cell_type": "code",
   "execution_count": 113,
   "metadata": {},
   "outputs": [
    {
     "data": {
      "text/html": [
       "<div>\n",
       "<style scoped>\n",
       "    .dataframe tbody tr th:only-of-type {\n",
       "        vertical-align: middle;\n",
       "    }\n",
       "\n",
       "    .dataframe tbody tr th {\n",
       "        vertical-align: top;\n",
       "    }\n",
       "\n",
       "    .dataframe thead th {\n",
       "        text-align: right;\n",
       "    }\n",
       "</style>\n",
       "<table border=\"1\" class=\"dataframe\">\n",
       "  <thead>\n",
       "    <tr style=\"text-align: right;\">\n",
       "      <th></th>\n",
       "      <th>Invoice ID</th>\n",
       "      <th>Date</th>\n",
       "      <th>Time</th>\n",
       "      <th>Gender</th>\n",
       "      <th>Location</th>\n",
       "      <th>City</th>\n",
       "      <th>Member</th>\n",
       "      <th>Category</th>\n",
       "      <th>Price</th>\n",
       "      <th>Quantity</th>\n",
       "      <th>Total</th>\n",
       "      <th>Payment</th>\n",
       "      <th>Rating</th>\n",
       "      <th>Day</th>\n",
       "    </tr>\n",
       "  </thead>\n",
       "  <tbody>\n",
       "    <tr>\n",
       "      <th>0</th>\n",
       "      <td>460489604</td>\n",
       "      <td>1/25/2018</td>\n",
       "      <td>16:46</td>\n",
       "      <td>Male</td>\n",
       "      <td>Brookfield</td>\n",
       "      <td>NewYork</td>\n",
       "      <td>Yes</td>\n",
       "      <td>Groceries</td>\n",
       "      <td>30</td>\n",
       "      <td>1</td>\n",
       "      <td>30</td>\n",
       "      <td>Cash</td>\n",
       "      <td>2</td>\n",
       "      <td>25</td>\n",
       "    </tr>\n",
       "    <tr>\n",
       "      <th>1</th>\n",
       "      <td>471006167</td>\n",
       "      <td>3/19/2018</td>\n",
       "      <td>16:48</td>\n",
       "      <td>Female</td>\n",
       "      <td>Water tower</td>\n",
       "      <td>Chicago</td>\n",
       "      <td>Yes</td>\n",
       "      <td>Fashion</td>\n",
       "      <td>35</td>\n",
       "      <td>5</td>\n",
       "      <td>175</td>\n",
       "      <td>Card</td>\n",
       "      <td>3</td>\n",
       "      <td>19</td>\n",
       "    </tr>\n",
       "    <tr>\n",
       "      <th>2</th>\n",
       "      <td>411909258</td>\n",
       "      <td>2/25/2018</td>\n",
       "      <td>13:33</td>\n",
       "      <td>Male</td>\n",
       "      <td>Water tower</td>\n",
       "      <td>Chicago</td>\n",
       "      <td>No</td>\n",
       "      <td>Clothing</td>\n",
       "      <td>57</td>\n",
       "      <td>2</td>\n",
       "      <td>114</td>\n",
       "      <td>Cash</td>\n",
       "      <td>5</td>\n",
       "      <td>25</td>\n",
       "    </tr>\n",
       "    <tr>\n",
       "      <th>3</th>\n",
       "      <td>487313402</td>\n",
       "      <td>1/22/2018</td>\n",
       "      <td>13:38</td>\n",
       "      <td>Female</td>\n",
       "      <td>Park lane</td>\n",
       "      <td>Dallas</td>\n",
       "      <td>Yes</td>\n",
       "      <td>Sporting</td>\n",
       "      <td>89</td>\n",
       "      <td>4</td>\n",
       "      <td>356</td>\n",
       "      <td>Gpay</td>\n",
       "      <td>1</td>\n",
       "      <td>22</td>\n",
       "    </tr>\n",
       "    <tr>\n",
       "      <th>4</th>\n",
       "      <td>197763430</td>\n",
       "      <td>2/18/2018</td>\n",
       "      <td>15:31</td>\n",
       "      <td>Female</td>\n",
       "      <td>Park lane</td>\n",
       "      <td>Dallas</td>\n",
       "      <td>No</td>\n",
       "      <td>Books</td>\n",
       "      <td>82</td>\n",
       "      <td>5</td>\n",
       "      <td>410</td>\n",
       "      <td>Cash</td>\n",
       "      <td>4</td>\n",
       "      <td>18</td>\n",
       "    </tr>\n",
       "  </tbody>\n",
       "</table>\n",
       "</div>"
      ],
      "text/plain": [
       "   Invoice ID       Date   Time  Gender     Location     City Member  \\\n",
       "0   460489604  1/25/2018  16:46    Male   Brookfield  NewYork    Yes   \n",
       "1   471006167  3/19/2018  16:48  Female  Water tower  Chicago    Yes   \n",
       "2   411909258  2/25/2018  13:33    Male  Water tower  Chicago     No   \n",
       "3   487313402  1/22/2018  13:38  Female    Park lane   Dallas    Yes   \n",
       "4   197763430  2/18/2018  15:31  Female    Park lane   Dallas     No   \n",
       "\n",
       "    Category  Price  Quantity  Total Payment  Rating  Day  \n",
       "0  Groceries     30         1     30    Cash       2   25  \n",
       "1    Fashion     35         5    175    Card       3   19  \n",
       "2   Clothing     57         2    114    Cash       5   25  \n",
       "3   Sporting     89         4    356    Gpay       1   22  \n",
       "4      Books     82         5    410    Cash       4   18  "
      ]
     },
     "execution_count": 113,
     "metadata": {},
     "output_type": "execute_result"
    }
   ],
   "source": [
    "# now add the new column days derived from date to the table\n",
    "sales['Day'] = pd.to_datetime(sales['Date']).dt.day\n",
    "sales.head()"
   ]
  },
  {
   "cell_type": "code",
   "execution_count": 119,
   "metadata": {},
   "outputs": [],
   "source": [
    "day_sales = sales.groupby('Day').sum()['Total']\n"
   ]
  },
  {
   "cell_type": "code",
   "execution_count": 120,
   "metadata": {},
   "outputs": [
    {
     "data": {
      "image/png": "[encoded data removed]",
      "text/plain": [
       "<Figure size 432x288 with 1 Axes>"
      ]
     },
     "metadata": {
      "needs_background": "light"
     },
     "output_type": "display_data"
    }
   ],
   "source": [
    "day_sales.plot()\n",
    "plt.show()"
   ]
  },
  {
   "cell_type": "markdown",
   "metadata": {},
   "source": [
    "--- Above analysis we say that most sales occur on 15 th of the month ---"
   ]
  },
  {
   "cell_type": "code",
   "execution_count": 121,
   "metadata": {},
   "outputs": [],
   "source": [
    "# which month makes most sales\n",
    "sales['Months'] = pd.to_datetime(sales['Date']).dt.month"
   ]
  },
  {
   "cell_type": "code",
   "execution_count": 123,
   "metadata": {},
   "outputs": [],
   "source": [
    "sales_month = sales.groupby('Months').sum()['Total']"
   ]
  },
  {
   "cell_type": "code",
   "execution_count": 124,
   "metadata": {},
   "outputs": [
    {
     "data": {
      "image/png": "[encoded data removed]",
      "text/plain": [
       "<Figure size 432x288 with 1 Axes>"
      ]
     },
     "metadata": {
      "needs_background": "light"
     },
     "output_type": "display_data"
    }
   ],
   "source": [
    "sales_month.plot(kind= 'bar')\n",
    "plt.grid()\n",
    "plt.show()"
   ]
  },
  {
   "cell_type": "markdown",
   "metadata": {},
   "source": [
    "--- Above analysis in the 3rd month sales are more ---"
   ]
  },
  {
   "cell_type": "code",
   "execution_count": 129,
   "metadata": {},
   "outputs": [],
   "source": [
    "# hours in which sales are high\n",
    "sales['Hour']= pd.to_datetime(sales['Time']).dt.hour\n"
   ]
  },
  {
   "cell_type": "code",
   "execution_count": 130,
   "metadata": {},
   "outputs": [
    {
     "data": {
      "text/plain": [
       "Hour\n",
       "10    20235\n",
       "11    20274\n",
       "12    17396\n",
       "13    22146\n",
       "14    15084\n",
       "15    23717\n",
       "16    14708\n",
       "17    14443\n",
       "18    20528\n",
       "19    24221\n",
       "20    15036\n",
       "Name: Total, dtype: int64"
      ]
     },
     "execution_count": 130,
     "metadata": {},
     "output_type": "execute_result"
    }
   ],
   "source": [
    "sales_hour = sales.groupby('Hour').sum()['Total']\n",
    "sales_hour"
   ]
  },
  {
   "cell_type": "code",
   "execution_count": 131,
   "metadata": {},
   "outputs": [
    {
     "data": {
      "image/png": "[encoded data removed]",
      "text/plain": [
       "<Figure size 432x288 with 1 Axes>"
      ]
     },
     "metadata": {
      "needs_background": "light"
     },
     "output_type": "display_data"
    }
   ],
   "source": [
    "sales_hour.plot(grid=True)\n",
    "plt.show()"
   ]
  },
  {
   "cell_type": "markdown",
   "metadata": {},
   "source": [
    "--- Above analysis shows that high sales occur at 19th hour ----"
   ]
  },
  {
   "cell_type": "markdown",
   "metadata": {},
   "source": [
    "    CLASSIFYING PAYMENTS"
   ]
  },
  {
   "cell_type": "code",
   "execution_count": 141,
   "metadata": {},
   "outputs": [
    {
     "data": {
      "text/plain": [
       "Payment  Hour\n",
       "Card     10      29\n",
       "         11      25\n",
       "         12      27\n",
       "         13      35\n",
       "         14      22\n",
       "         15      37\n",
       "         16      23\n",
       "         17      28\n",
       "         18      25\n",
       "         19      34\n",
       "         20      26\n",
       "Cash     10      35\n",
       "         11      36\n",
       "         12      27\n",
       "         13      37\n",
       "         14      32\n",
       "         15      38\n",
       "         16      31\n",
       "         17      21\n",
       "         18      29\n",
       "         19      32\n",
       "         20      26\n",
       "Gpay     10      37\n",
       "         11      29\n",
       "         12      35\n",
       "         13      31\n",
       "         14      29\n",
       "         15      27\n",
       "         16      23\n",
       "         17      25\n",
       "         18      39\n",
       "         19      47\n",
       "         20      23\n",
       "Name: Total, dtype: int64"
      ]
     },
     "execution_count": 141,
     "metadata": {},
     "output_type": "execute_result"
    }
   ],
   "source": [
    "# WHAT TIME DO PEOPLE MAKE MORE EPAYMENTS vs CASH VS CARD\n",
    "sales_epay = sales.groupby(['Payment', 'Hour']).count()['Total']\n",
    "sales_epay"
   ]
  },
  {
   "cell_type": "code",
   "execution_count": 144,
   "metadata": {},
   "outputs": [
    {
     "data": {
      "image/png": "[encoded data removed]",
      "text/plain": [
       "<Figure size 432x288 with 1 Axes>"
      ]
     },
     "metadata": {
      "needs_background": "light"
     },
     "output_type": "display_data"
    }
   ],
   "source": [
    "sales_epay.unstack(level=0).plot(kind='bar')\n",
    "plt.grid()\n",
    "plt.show()"
   ]
  },
  {
   "cell_type": "markdown",
   "metadata": {},
   "source": [
    "--- Above analysis we can say the epayments are high in 19th hour AND both cash, card are high in 15th hour ---"
   ]
  },
  {
   "cell_type": "code",
   "execution_count": null,
   "metadata": {},
   "outputs": [],
   "source": []
  }
 ],
 "metadata": {
  "interpreter": {
   "hash": "085df249236c3b6fea36f79e66438a8a0d73abe9fb86d49453fbb8192410f7e2"
  },
  "kernelspec": {
   "display_name": "Python 3.8.10 64-bit",
   "language": "python",
   "name": "python3"
  },
  "language_info": {
   "codemirror_mode": {
    "name": "ipython",
    "version": 3
   },
   "file_extension": ".py",
   "mimetype": "text/x-python",
   "name": "python",
   "nbconvert_exporter": "python",
   "pygments_lexer": "ipython3",
   "version": "3.8.10"
  },
  "orig_nbformat": 4
 },
 "nbformat": 4,
 "nbformat_minor": 2
}
